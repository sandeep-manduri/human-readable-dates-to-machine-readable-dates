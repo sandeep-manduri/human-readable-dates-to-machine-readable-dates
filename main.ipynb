{
 "cells": [
  {
   "cell_type": "code",
   "execution_count": 1,
   "metadata": {
    "id": "mUwBfW98GHxc"
   },
   "outputs": [
    {
     "name": "stderr",
     "output_type": "stream",
     "text": [
      "2023-02-01 12:03:07.204578: I tensorflow/core/platform/cpu_feature_guard.cc:193] This TensorFlow binary is optimized with oneAPI Deep Neural Network Library (oneDNN) to use the following CPU instructions in performance-critical operations:  AVX2 AVX512F AVX512_VNNI FMA\n",
      "To enable them in other operations, rebuild TensorFlow with the appropriate compiler flags.\n",
      "2023-02-01 12:03:07.370381: I tensorflow/core/util/util.cc:169] oneDNN custom operations are on. You may see slightly different numerical results due to floating-point round-off errors from different computation orders. To turn them off, set the environment variable `TF_ENABLE_ONEDNN_OPTS=0`.\n",
      "2023-02-01 12:03:07.411826: E tensorflow/stream_executor/cuda/cuda_blas.cc:2981] Unable to register cuBLAS factory: Attempting to register factory for plugin cuBLAS when one has already been registered\n",
      "2023-02-01 12:03:08.175886: W tensorflow/stream_executor/platform/default/dso_loader.cc:64] Could not load dynamic library 'libnvinfer.so.7'; dlerror: libnvinfer.so.7: cannot open shared object file: No such file or directory\n",
      "2023-02-01 12:03:08.175971: W tensorflow/stream_executor/platform/default/dso_loader.cc:64] Could not load dynamic library 'libnvinfer_plugin.so.7'; dlerror: libnvinfer_plugin.so.7: cannot open shared object file: No such file or directory\n",
      "2023-02-01 12:03:08.175979: W tensorflow/compiler/tf2tensorrt/utils/py_utils.cc:38] TF-TRT Warning: Cannot dlopen some TensorRT libraries. If you would like to use Nvidia GPU with TensorRT, please make sure the missing libraries mentioned above are installed properly.\n"
     ]
    }
   ],
   "source": [
    "import tensorflow as tf\n",
    "from tensorflow import keras \n",
    "import numpy as np\n",
    "import matplotlib.pyplot as plt\n",
    "import random\n",
    "import copy"
   ]
  },
  {
   "cell_type": "code",
   "execution_count": 2,
   "metadata": {},
   "outputs": [
    {
     "name": "stdout",
     "output_type": "stream",
     "text": [
      "Num GPUs Available:  1\n",
      "1 Physical GPUs, 1 Logical GPUs\n"
     ]
    },
    {
     "name": "stderr",
     "output_type": "stream",
     "text": [
      "2023-02-01 12:03:12.146181: I tensorflow/core/platform/cpu_feature_guard.cc:193] This TensorFlow binary is optimized with oneAPI Deep Neural Network Library (oneDNN) to use the following CPU instructions in performance-critical operations:  AVX2 AVX512F AVX512_VNNI FMA\n",
      "To enable them in other operations, rebuild TensorFlow with the appropriate compiler flags.\n",
      "2023-02-01 12:03:12.905031: I tensorflow/core/common_runtime/gpu/gpu_device.cc:1616] Created device /job:localhost/replica:0/task:0/device:GPU:0 with 46703 MB memory:  -> device: 0, name: NVIDIA RTX A6000, pci bus id: 0000:98:00.0, compute capability: 8.6\n"
     ]
    }
   ],
   "source": [
    "print(\"Num GPUs Available: \", len(tf.config.list_physical_devices('GPU')))\n",
    "import os\n",
    "os.environ[\"TF_ENABLE_ONEDNN_OPTS\"] = '0'\n",
    "gpus = tf.config.list_physical_devices('GPU')\n",
    "if gpus:\n",
    "  try:\n",
    "    # Currently, memory growth needs to be the same across GPUs\n",
    "    for gpu in gpus:\n",
    "      tf.config.experimental.set_memory_growth(gpu, True)\n",
    "    logical_gpus = tf.config.list_logical_devices('GPU')\n",
    "    print(len(gpus), \"Physical GPUs,\", len(logical_gpus), \"Logical GPUs\")\n",
    "  except RuntimeError as e:\n",
    "    # Memory growth must be set before GPUs have been initialized\n",
    "    print(e)\n"
   ]
  },
  {
   "cell_type": "code",
   "execution_count": 3,
   "metadata": {},
   "outputs": [
    {
     "name": "stdout",
     "output_type": "stream",
     "text": [
      "{'current': 0, 'peak': 0}\n"
     ]
    }
   ],
   "source": [
    "if tf.config.list_physical_devices('GPU'):\n",
    "  # Returns a dict in the form {'current': <current mem usage>,\n",
    "  #                             'peak': <peak mem usage>}\n",
    "    info = tf.config.experimental.get_memory_info('GPU:0')\n",
    "print(info)"
   ]
  },
  {
   "cell_type": "code",
   "execution_count": 4,
   "metadata": {
    "id": "OZE939a7L16O"
   },
   "outputs": [],
   "source": [
    "file_name =\"Assignment4aDataset.txt\"\n",
    "fp = open(file_name,\"r\")\n",
    "dates = []\n",
    "for line in fp:\n",
    "    dates.append(line)\n",
    "\n"
   ]
  },
  {
   "cell_type": "code",
   "execution_count": 5,
   "metadata": {
    "colab": {
     "base_uri": "https://localhost:8080/"
    },
    "id": "deaOmgSVoyG_",
    "outputId": "90f352c2-ba17-4e1b-f794-d1a505066c1d"
   },
   "outputs": [
    {
     "name": "stdout",
     "output_type": "stream",
     "text": [
      "42\n"
     ]
    }
   ],
   "source": [
    "symbs = ['0','1','2','3','4','5','6','7','8','9','a','b','c','d','e','f','g','h','i','j','k','l','m','n','o','p','q','r','s','t','u','v','w','x','y','z','-',' ','/','*','!','pad']\n",
    "#    '*' is the start symbol and    '!'   is the end symbol   \n",
    "\n",
    "i = 0\n",
    "sym_dt = {}      #dictionary to look for token number\n",
    "reverse_syms_dt = {}  #token number to charecter\n",
    "for c in symbs:\n",
    "    sym_dt[c] = i\n",
    "    reverse_syms_dt[i] = c\n",
    "    i += 1\n",
    "\n",
    "print(len(sym_dt))\n",
    "labs = list(sym_dt.values())\n",
    "one_hots = tf.one_hot(labs,len(sym_dt))"
   ]
  },
  {
   "cell_type": "code",
   "execution_count": 6,
   "metadata": {
    "id": "KVm8JnqymA7B"
   },
   "outputs": [],
   "source": [
    "max_pad = 30\n",
    "dataset_x = []   #one hots for the input dates\n",
    "dataset_y = []   #one hots for the output \n",
    "readable_sens = []  #actual dates\n",
    "for i,x in enumerate(dates):\n",
    "    xx = x.split(',')\n",
    "    sen = []\n",
    "    sen.append(one_hots[sym_dt['*']])\n",
    "    \n",
    "    readable_sens.append(xx[0][1:-1] +\" : \"+ xx[1][2:-2])\n",
    "    for c in xx[0][1:-1]:\n",
    "        sen.append(one_hots[sym_dt[c]])\n",
    "        \n",
    "    sen.append(one_hots[sym_dt['!']])\n",
    "    padding = [one_hots[sym_dt[\"pad\"]]]*(max_pad-len(sen))\n",
    "    sen = sen+padding\n",
    "\n",
    "    dataset_x.append(sen)\n",
    "\n",
    "    date = []\n",
    "    \n",
    "    date.append(one_hots[sym_dt['*']])\n",
    "    for c in xx[1][2:-2]:\n",
    "        date.append(one_hots[sym_dt[c]])\n",
    "        \n",
    "    date.append(one_hots[sym_dt['!']])\n",
    "\n",
    "    dataset_y.append(date)\n",
    "\n",
    "\n",
    "    \n",
    "dataset_x = np.array(dataset_x,dtype = 'float32')\n",
    "dataset_y = np.array(dataset_y,dtype = 'float32')"
   ]
  },
  {
   "cell_type": "code",
   "execution_count": 13,
   "metadata": {},
   "outputs": [
    {
     "name": "stdout",
     "output_type": "stream",
     "text": [
      "may 20 2034 : 2034-05-20\n"
     ]
    }
   ],
   "source": [
    "print(readable_sens[0])"
   ]
  },
  {
   "cell_type": "code",
   "execution_count": 15,
   "metadata": {},
   "outputs": [
    {
     "name": "stdout",
     "output_type": "stream",
     "text": [
      "(40000, 33, 64) (40000, 12, 42)\n"
     ]
    }
   ],
   "source": [
    "embeds = keras.layers.Embedding(len(sym_dt),64)  #embedding layer \n",
    "emb_data_x = []   # embeddings for input data instead of onehots\n",
    "emb_data_y = []   # embeddings for output data \n",
    "for i,x in enumerate(dates):\n",
    "    xx = x.split(',')\n",
    "    sen = []\n",
    "    sen.append(embeds(sym_dt['*']))\n",
    "    \n",
    "    for c in xx[0][1:-1]:\n",
    "        sen.append(embeds(sym_dt[c]))\n",
    "    sen.append(embeds(sym_dt['!']))\n",
    "    padding = [embeds(sym_dt[\"pad\"])]*(max_pad+3-len(sen))\n",
    "    sen = sen+padding\n",
    "\n",
    "    emb_data_x.append(sen)\n",
    "\n",
    "    date = []\n",
    "    date.append(one_hots[sym_dt['*']])\n",
    "    for c in xx[1][2:-2]:\n",
    "        date.append(one_hots[sym_dt[c]])\n",
    "    date.append(one_hots[sym_dt['!']])\n",
    "\n",
    "    emb_data_y.append(date)\n",
    "\n",
    "emb_data_x = np.array(emb_data_x,dtype = 'float32')\n",
    "emb_data_y = np.array(emb_data_y,dtype = 'float32')\n",
    "\n",
    "print(emb_data_x.shape,emb_data_y.shape)\n"
   ]
  },
  {
   "cell_type": "code",
   "execution_count": 39,
   "metadata": {},
   "outputs": [],
   "source": [
    "class model_attention2(keras.Model):\n",
    "    \n",
    "    def __init__(self,out_dict_size,**kwargs):\n",
    "        \n",
    "        super(model_attention2,self).__init__(**kwargs)\n",
    "        self.rnn_enc_cell = tf.keras.layers.LSTMCell(512,activation = \"tanh\",recurrent_dropout = 0.3) \n",
    "        self.rnn_enc = tf.keras.layers.RNN(self.rnn_enc_cell,return_sequences = True, return_state = True) \n",
    "        self.rnn_dec_cell = tf.keras.layers.LSTMCell(512,activation = \"tanh\",recurrent_dropout = 0.3)\n",
    "        self.rnn_dec = tf.keras.layers.RNN(self.rnn_dec_cell,return_sequences = True) \n",
    "        self.mha = keras.layers.MultiHeadAttention(1,key_dim = 64)\n",
    "        self.layernorm = tf.keras.layers.LayerNormalization()\n",
    "        self.add = tf.keras.layers.Add()\n",
    "        self.out = tf.keras.layers.Dense(out_dict_size,activation = 'softmax')\n",
    "\n",
    "\n",
    "    def call(self,inp,outp):\n",
    "\n",
    "        seqs,state1,state2 = self.rnn_enc(inp) \n",
    "        \n",
    "        x = self.rnn_dec(outp,initial_state = [state1,state1])\n",
    "        att_vecs, self.att_vals = self.mha(x,seqs,return_attention_scores = True)\n",
    "    \n",
    "        pre_out = self.add([att_vecs,x])\n",
    "        pre_out = self.layernorm(pre_out)\n",
    "\n",
    "        probs = self.out(pre_out)\n",
    "\n",
    "        return probs\n",
    "\n",
    "    \n"
   ]
  },
  {
   "cell_type": "code",
   "execution_count": null,
   "metadata": {},
   "outputs": [],
   "source": [
    "def train(inputs,targets,output_onehots,model):\n",
    "    data_x = copy.deepcopy(inputs)\n",
    "    data_y = copy.deepcopy(targets)\n",
    "    one_hots = copy.deepcopy(output_onehots)\n",
    "    tot_losses = []\n",
    "    for x in range(epochs):\n",
    "        ep_loss = 0\n",
    "        index = 0\n",
    "        while(index<40000):\n",
    "            d = data_x[index:index+batch_size]\n",
    "            y = data_y[index:index+batch_size]\n",
    "            y_onehots = one_hots[index:index+batch_size]\n",
    "            \n",
    "            inds = np.arange(0,min(batch_size,len(d))) #shuffling inside batches\n",
    "            np.random.shuffle(inds)\n",
    "            d = d[inds]\n",
    "            y = y[inds]\n",
    "            y_onehots = y_onehots[inds]\n",
    "            \n",
    "            index += batch_size\n",
    "            with tf.GradientTape() as tp:\n",
    "                \n",
    "                pred = model(d,y[:,:-1,:])   #end token is not fed into input i.e., end token is predicted\n",
    "                ls = loss(y_onehots[:,1:,:],pred) #loss calculated from prediction without start symbol\n",
    "                \n",
    "            grads = tp.gradient(ls,model.trainable_weights) \n",
    "            optim.apply_gradients(zip(grads,model.trainable_weights))\n",
    "            ep_loss += ls\n",
    "            model.rnn_enc_cell.reset_recurrent_dropout_mask()\n",
    "            model.rnn_dec_cell.reset_recurrent_dropout_mask()\n",
    "        print(\"epoch : \", x, \"loss : \", ep_loss/(len(data_x)/batch_size))\n",
    "        tot_losses.append(ep_loss/(len(data_x)/batch_size))\n",
    "\n",
    "    return tot_losses"
   ]
  },
  {
   "cell_type": "code",
   "execution_count": 102,
   "metadata": {},
   "outputs": [
    {
     "name": "stdout",
     "output_type": "stream",
     "text": [
      "epoch :  0 loss :  tf.Tensor(1.1821278, shape=(), dtype=float32)\n",
      "epoch :  1 loss :  tf.Tensor(0.47055858, shape=(), dtype=float32)\n",
      "epoch :  2 loss :  tf.Tensor(0.28239134, shape=(), dtype=float32)\n",
      "epoch :  3 loss :  tf.Tensor(0.17856929, shape=(), dtype=float32)\n",
      "epoch :  4 loss :  tf.Tensor(0.07443638, shape=(), dtype=float32)\n",
      "epoch :  5 loss :  tf.Tensor(0.04575721, shape=(), dtype=float32)\n",
      "epoch :  6 loss :  tf.Tensor(0.03443939, shape=(), dtype=float32)\n",
      "epoch :  7 loss :  tf.Tensor(0.029624859, shape=(), dtype=float32)\n",
      "epoch :  8 loss :  tf.Tensor(0.023567393, shape=(), dtype=float32)\n",
      "epoch :  9 loss :  tf.Tensor(0.019162495, shape=(), dtype=float32)\n",
      "epoch :  10 loss :  tf.Tensor(0.01667168, shape=(), dtype=float32)\n",
      "epoch :  11 loss :  tf.Tensor(0.014066077, shape=(), dtype=float32)\n",
      "epoch :  12 loss :  tf.Tensor(0.017910905, shape=(), dtype=float32)\n",
      "epoch :  13 loss :  tf.Tensor(0.02025629, shape=(), dtype=float32)\n",
      "epoch :  14 loss :  tf.Tensor(0.012614768, shape=(), dtype=float32)\n",
      "epoch :  15 loss :  tf.Tensor(0.010677422, shape=(), dtype=float32)\n",
      "epoch :  16 loss :  tf.Tensor(0.009955018, shape=(), dtype=float32)\n",
      "epoch :  17 loss :  tf.Tensor(0.009649545, shape=(), dtype=float32)\n",
      "epoch :  18 loss :  tf.Tensor(0.009195705, shape=(), dtype=float32)\n",
      "epoch :  19 loss :  tf.Tensor(0.008946926, shape=(), dtype=float32)\n",
      "epoch :  20 loss :  tf.Tensor(0.008958, shape=(), dtype=float32)\n",
      "epoch :  21 loss :  tf.Tensor(0.00903409, shape=(), dtype=float32)\n",
      "epoch :  22 loss :  tf.Tensor(0.008533936, shape=(), dtype=float32)\n",
      "epoch :  23 loss :  tf.Tensor(0.008323659, shape=(), dtype=float32)\n",
      "epoch :  24 loss :  tf.Tensor(0.00823577, shape=(), dtype=float32)\n",
      "epoch :  25 loss :  tf.Tensor(0.008084748, shape=(), dtype=float32)\n",
      "epoch :  26 loss :  tf.Tensor(0.009604553, shape=(), dtype=float32)\n",
      "epoch :  27 loss :  tf.Tensor(0.009012419, shape=(), dtype=float32)\n",
      "epoch :  28 loss :  tf.Tensor(0.007888222, shape=(), dtype=float32)\n",
      "epoch :  29 loss :  tf.Tensor(0.007629735, shape=(), dtype=float32)\n",
      "epoch :  30 loss :  tf.Tensor(0.0076110535, shape=(), dtype=float32)\n",
      "epoch :  31 loss :  tf.Tensor(0.0075523634, shape=(), dtype=float32)\n",
      "epoch :  32 loss :  tf.Tensor(0.010044432, shape=(), dtype=float32)\n",
      "epoch :  33 loss :  tf.Tensor(1.2705702, shape=(), dtype=float32)\n",
      "epoch :  34 loss :  tf.Tensor(1.1418349, shape=(), dtype=float32)\n",
      "epoch :  35 loss :  tf.Tensor(1.118507, shape=(), dtype=float32)\n",
      "epoch :  36 loss :  tf.Tensor(1.0917373, shape=(), dtype=float32)\n",
      "epoch :  37 loss :  tf.Tensor(1.0704594, shape=(), dtype=float32)\n",
      "epoch :  38 loss :  tf.Tensor(1.0345047, shape=(), dtype=float32)\n",
      "epoch :  39 loss :  tf.Tensor(1.0097554, shape=(), dtype=float32)\n",
      "epoch :  40 loss :  tf.Tensor(0.998229, shape=(), dtype=float32)\n",
      "epoch :  41 loss :  tf.Tensor(0.9862737, shape=(), dtype=float32)\n",
      "epoch :  42 loss :  tf.Tensor(0.96209055, shape=(), dtype=float32)\n",
      "epoch :  43 loss :  tf.Tensor(0.94029003, shape=(), dtype=float32)\n",
      "epoch :  44 loss :  tf.Tensor(0.9171698, shape=(), dtype=float32)\n",
      "epoch :  45 loss :  tf.Tensor(0.8866508, shape=(), dtype=float32)\n",
      "epoch :  46 loss :  tf.Tensor(0.7441022, shape=(), dtype=float32)\n",
      "epoch :  47 loss :  tf.Tensor(0.2773557, shape=(), dtype=float32)\n",
      "epoch :  48 loss :  tf.Tensor(0.038892433, shape=(), dtype=float32)\n",
      "epoch :  49 loss :  tf.Tensor(0.016507186, shape=(), dtype=float32)\n",
      "epoch :  50 loss :  tf.Tensor(0.013691613, shape=(), dtype=float32)\n",
      "epoch :  51 loss :  tf.Tensor(0.012075374, shape=(), dtype=float32)\n",
      "epoch :  52 loss :  tf.Tensor(0.010969576, shape=(), dtype=float32)\n",
      "epoch :  53 loss :  tf.Tensor(0.009884781, shape=(), dtype=float32)\n",
      "epoch :  54 loss :  tf.Tensor(0.0093783345, shape=(), dtype=float32)\n",
      "epoch :  55 loss :  tf.Tensor(0.009244129, shape=(), dtype=float32)\n",
      "epoch :  56 loss :  tf.Tensor(0.008940092, shape=(), dtype=float32)\n",
      "epoch :  57 loss :  tf.Tensor(0.008831292, shape=(), dtype=float32)\n",
      "epoch :  58 loss :  tf.Tensor(0.008810764, shape=(), dtype=float32)\n",
      "epoch :  59 loss :  tf.Tensor(0.008677926, shape=(), dtype=float32)\n",
      "epoch :  60 loss :  tf.Tensor(0.008624021, shape=(), dtype=float32)\n",
      "epoch :  61 loss :  tf.Tensor(0.008490793, shape=(), dtype=float32)\n",
      "epoch :  62 loss :  tf.Tensor(0.008428639, shape=(), dtype=float32)\n",
      "epoch :  63 loss :  tf.Tensor(0.008359379, shape=(), dtype=float32)\n",
      "epoch :  64 loss :  tf.Tensor(0.008276274, shape=(), dtype=float32)\n",
      "epoch :  65 loss :  tf.Tensor(0.00821944, shape=(), dtype=float32)\n",
      "epoch :  66 loss :  tf.Tensor(0.008194164, shape=(), dtype=float32)\n",
      "epoch :  67 loss :  tf.Tensor(0.008188419, shape=(), dtype=float32)\n",
      "epoch :  68 loss :  tf.Tensor(0.008486221, shape=(), dtype=float32)\n",
      "epoch :  69 loss :  tf.Tensor(0.008149421, shape=(), dtype=float32)\n",
      "epoch :  70 loss :  tf.Tensor(0.008022155, shape=(), dtype=float32)\n",
      "epoch :  71 loss :  tf.Tensor(0.007998734, shape=(), dtype=float32)\n",
      "epoch :  72 loss :  tf.Tensor(0.007917643, shape=(), dtype=float32)\n",
      "epoch :  73 loss :  tf.Tensor(0.007969786, shape=(), dtype=float32)\n",
      "epoch :  74 loss :  tf.Tensor(0.007882323, shape=(), dtype=float32)\n",
      "epoch :  75 loss :  tf.Tensor(0.007599472, shape=(), dtype=float32)\n",
      "epoch :  76 loss :  tf.Tensor(0.007684114, shape=(), dtype=float32)\n",
      "epoch :  77 loss :  tf.Tensor(0.007517729, shape=(), dtype=float32)\n",
      "epoch :  78 loss :  tf.Tensor(0.0075630746, shape=(), dtype=float32)\n",
      "epoch :  79 loss :  tf.Tensor(0.0075020026, shape=(), dtype=float32)\n"
     ]
    }
   ],
   "source": [
    "optim = keras.optimizers.Adam()\n",
    "loss = keras.losses.CategoricalCrossentropy()\n",
    "\n",
    "epochs = 80\n",
    "\n",
    "batch_size = 512\n",
    "\n",
    "model = model_attention2(len(sym_dt))   \n",
    "\n",
    "losses = train(dataset_x,dataset_y,dataset_y,model)  #model with onehots as inputs and target_sequences"
   ]
  },
  {
   "cell_type": "code",
   "execution_count": 103,
   "metadata": {},
   "outputs": [
    {
     "data": {
      "text/plain": [
       "[<matplotlib.lines.Line2D at 0x7f8c0c0951c0>]"
      ]
     },
     "execution_count": 103,
     "metadata": {},
     "output_type": "execute_result"
    },
    {
     "data": {
      "image/png": "[encoded data removed]",
      "text/plain": [
       "<Figure size 640x480 with 1 Axes>"
      ]
     },
     "metadata": {},
     "output_type": "display_data"
    }
   ],
   "source": [
    "plt.plot(losses)"
   ]
  },
  {
   "cell_type": "code",
   "execution_count": 22,
   "metadata": {},
   "outputs": [],
   "source": [
    "def gen_date(inp,model,target_dictionary,target_onehots,target_reverse_syms_dt):\n",
    "    \n",
    "    \n",
    "    enc_seqs,state1,state2 = model.rnn_enc(inp)\n",
    "    cnt = 0\n",
    "    chr = '*'\n",
    "    tot_scores = []\n",
    "    \n",
    "    cur_inp = tf.expand_dims(target_onehots[target_dictionary['*']],axis = 0)\n",
    "    \n",
    "    prev_state = state1\n",
    "    res = []\n",
    "    \n",
    "    while(chr!='!'):\n",
    "\n",
    "        if(cnt == 20):\n",
    "            break\n",
    "        cnt += 1\n",
    "        out_dec = model.rnn_dec_cell(cur_inp,states = [prev_state,prev_state])\n",
    "        \n",
    "        att_vect,scores = model.mha(tf.expand_dims(out_dec[0],axis = 0),enc_seqs,return_attention_scores = True)\n",
    "        pre_out = model.add([att_vect,out_dec[0]])\n",
    "        pre_out = model.layernorm(pre_out,training = False)\n",
    "        out = model.out(pre_out) \n",
    "    \n",
    "        chr_ind = int(tf.argmax(out,axis = 2))\n",
    "        chr = target_reverse_syms_dt[chr_ind]\n",
    "        res.append(chr)\n",
    "        tot_scores.append(np.squeeze(scores))\n",
    "        \n",
    "        prev_state = out_dec[0]\n",
    "        cur_inp = tf.expand_dims(target_onehots[target_dictionary[chr]],axis = 0)\n",
    "\n",
    "    return \"\".join(res),tot_scores\n",
    "\n",
    "\n",
    "def plot_attention(att_scores,inp_sent_,out_sent_):\n",
    "        \n",
    "    inp_sent = []\n",
    "    for c in inp_sent_:\n",
    "        inp_sent.append(c)\n",
    "    out_sent = []\n",
    "    for c in out_sent_:\n",
    "        out_sent.append(c)\n",
    "\n",
    "    fig, ax = plt.subplots()\n",
    "    im = ax.imshow(att_scores)\n",
    "\n",
    "    # Show all ticks and label them with the respective list entries\n",
    "    ax.set_xticks(np.arange(len(inp_sent)), labels=inp_sent)\n",
    "    ax.set_yticks(np.arange(len(out_sent)), labels=out_sent)\n",
    "\n",
    "    # Rotate the tick labels and set their alignment.\n",
    "    plt.setp(ax.get_xticklabels(), rotation=45, ha=\"right\",\n",
    "             rotation_mode=\"anchor\")\n",
    "\n",
    "    # Loop over data dimensions and create text annotations.\n",
    "#     for i in range(len(out_sent)):\n",
    "#         for j in range(len(inp_sent)):\n",
    "#             text = ax.text(j, i, att_scores[i][j],ha=\"center\", va=\"center\", color=\"w\")\n",
    "\n",
    "    ax.set_title(\"attention scores\")\n",
    "    fig.tight_layout()\n",
    "    plt.show()\n",
    "\n",
    "    \n",
    "def one_hot_encode(sentence):\n",
    "    out = []\n",
    "    for c in sentence:\n",
    "        out.append(one_hots[sym_dt[c]])\n",
    "    return np.array(out)\n",
    "\n",
    "def embed_sentence(sentence):\n",
    "    out = []\n",
    "    for c in sentence:\n",
    "        out.append(embeds(sym_dt[c]))\n",
    "    return np.array(out)\n",
    "    \n"
   ]
  },
  {
   "cell_type": "code",
   "execution_count": 119,
   "metadata": {},
   "outputs": [
    {
     "name": "stdout",
     "output_type": "stream",
     "text": [
      "(12, 42)\n",
      "1833-06-09!\n",
      "(9, 12)\n"
     ]
    },
    {
     "data": {
      "image/png": "[encoded data removed]",
      "text/plain": [
       "<Figure size 640x480 with 1 Axes>"
      ]
     },
     "metadata": {},
     "output_type": "display_data"
    }
   ],
   "source": [
    "\n",
    "\n",
    "example = \"*\" + \"1833 9 jun\" + \"!\"\n",
    "\n",
    "oh = one_hot_encode(example)\n",
    "print(oh.shape)\n",
    "output_date,scores = gen_date(np.expand_dims(oh,axis = 0),model,sym_dt,one_hots,reverse_syms_dt)\n",
    "print(date)\n",
    "print(np.array(scores).shape)\n",
    "plot_attention(np.around(scores,2),example,output_date)"
   ]
  },
  {
   "cell_type": "code",
   "execution_count": 121,
   "metadata": {},
   "outputs": [
    {
     "name": "stdout",
     "output_type": "stream",
     "text": [
      "epoch :  0 loss :  tf.Tensor(1.4701291, shape=(), dtype=float32)\n",
      "epoch :  1 loss :  tf.Tensor(0.95995677, shape=(), dtype=float32)\n",
      "epoch :  2 loss :  tf.Tensor(0.6427927, shape=(), dtype=float32)\n",
      "epoch :  3 loss :  tf.Tensor(0.48122647, shape=(), dtype=float32)\n",
      "epoch :  4 loss :  tf.Tensor(0.3890107, shape=(), dtype=float32)\n",
      "epoch :  5 loss :  tf.Tensor(0.2908672, shape=(), dtype=float32)\n",
      "epoch :  6 loss :  tf.Tensor(0.18603054, shape=(), dtype=float32)\n",
      "epoch :  7 loss :  tf.Tensor(0.103500485, shape=(), dtype=float32)\n",
      "epoch :  8 loss :  tf.Tensor(0.060425665, shape=(), dtype=float32)\n",
      "epoch :  9 loss :  tf.Tensor(0.046260245, shape=(), dtype=float32)\n",
      "epoch :  10 loss :  tf.Tensor(0.03622786, shape=(), dtype=float32)\n",
      "epoch :  11 loss :  tf.Tensor(0.02881431, shape=(), dtype=float32)\n",
      "epoch :  12 loss :  tf.Tensor(0.02479276, shape=(), dtype=float32)\n",
      "epoch :  13 loss :  tf.Tensor(0.02182887, shape=(), dtype=float32)\n",
      "epoch :  14 loss :  tf.Tensor(0.020583358, shape=(), dtype=float32)\n",
      "epoch :  15 loss :  tf.Tensor(0.017934281, shape=(), dtype=float32)\n",
      "epoch :  16 loss :  tf.Tensor(0.42173663, shape=(), dtype=float32)\n",
      "epoch :  17 loss :  tf.Tensor(1.1969651, shape=(), dtype=float32)\n",
      "epoch :  18 loss :  tf.Tensor(1.09265, shape=(), dtype=float32)\n",
      "epoch :  19 loss :  tf.Tensor(1.0358765, shape=(), dtype=float32)\n",
      "epoch :  20 loss :  tf.Tensor(1.1004615, shape=(), dtype=float32)\n",
      "epoch :  21 loss :  tf.Tensor(1.0440896, shape=(), dtype=float32)\n",
      "epoch :  22 loss :  tf.Tensor(1.0029888, shape=(), dtype=float32)\n",
      "epoch :  23 loss :  tf.Tensor(0.99216765, shape=(), dtype=float32)\n",
      "epoch :  24 loss :  tf.Tensor(0.98620194, shape=(), dtype=float32)\n",
      "epoch :  25 loss :  tf.Tensor(0.9793808, shape=(), dtype=float32)\n",
      "epoch :  26 loss :  tf.Tensor(0.97389317, shape=(), dtype=float32)\n",
      "epoch :  27 loss :  tf.Tensor(0.9711337, shape=(), dtype=float32)\n",
      "epoch :  28 loss :  tf.Tensor(0.969347, shape=(), dtype=float32)\n",
      "epoch :  29 loss :  tf.Tensor(0.9679665, shape=(), dtype=float32)\n",
      "epoch :  30 loss :  tf.Tensor(0.96673554, shape=(), dtype=float32)\n",
      "epoch :  31 loss :  tf.Tensor(0.9656539, shape=(), dtype=float32)\n",
      "epoch :  32 loss :  tf.Tensor(0.9649419, shape=(), dtype=float32)\n",
      "epoch :  33 loss :  tf.Tensor(0.96447676, shape=(), dtype=float32)\n",
      "epoch :  34 loss :  tf.Tensor(0.96408284, shape=(), dtype=float32)\n",
      "epoch :  35 loss :  tf.Tensor(0.9637206, shape=(), dtype=float32)\n",
      "epoch :  36 loss :  tf.Tensor(0.96339804, shape=(), dtype=float32)\n",
      "epoch :  37 loss :  tf.Tensor(0.96310323, shape=(), dtype=float32)\n",
      "epoch :  38 loss :  tf.Tensor(0.9628253, shape=(), dtype=float32)\n",
      "epoch :  39 loss :  tf.Tensor(0.9626242, shape=(), dtype=float32)\n",
      "epoch :  40 loss :  tf.Tensor(0.9627283, shape=(), dtype=float32)\n",
      "epoch :  41 loss :  tf.Tensor(0.9624906, shape=(), dtype=float32)\n",
      "epoch :  42 loss :  tf.Tensor(0.9616169, shape=(), dtype=float32)\n",
      "epoch :  43 loss :  tf.Tensor(0.9614129, shape=(), dtype=float32)\n",
      "epoch :  44 loss :  tf.Tensor(0.96090907, shape=(), dtype=float32)\n",
      "epoch :  45 loss :  tf.Tensor(0.96060675, shape=(), dtype=float32)\n",
      "epoch :  46 loss :  tf.Tensor(0.96053904, shape=(), dtype=float32)\n",
      "epoch :  47 loss :  tf.Tensor(0.9605792, shape=(), dtype=float32)\n",
      "epoch :  48 loss :  tf.Tensor(0.9607663, shape=(), dtype=float32)\n",
      "epoch :  49 loss :  tf.Tensor(0.960347, shape=(), dtype=float32)\n"
     ]
    }
   ],
   "source": [
    "optim = keras.optimizers.Adam()\n",
    "loss = keras.losses.CategoricalCrossentropy()\n",
    "\n",
    "epochs = 50\n",
    "\n",
    "batch_size = 512\n",
    "\n",
    "model_2 = model_attention2(len(sym_dt))   \n",
    "\n",
    "losses = train(emb_data_x,emb_data_y,dataset_y,model_2)  #model with embedded dates as inputs and target_sequences"
   ]
  },
  {
   "cell_type": "code",
   "execution_count": 132,
   "metadata": {},
   "outputs": [
    {
     "name": "stdout",
     "output_type": "stream",
     "text": [
      "epoch :  0 loss :  tf.Tensor(0.9592432, shape=(), dtype=float32)\n",
      "epoch :  1 loss :  tf.Tensor(0.95918995, shape=(), dtype=float32)\n",
      "epoch :  2 loss :  tf.Tensor(0.95867294, shape=(), dtype=float32)\n",
      "epoch :  3 loss :  tf.Tensor(0.9593777, shape=(), dtype=float32)\n",
      "epoch :  4 loss :  tf.Tensor(0.9590122, shape=(), dtype=float32)\n",
      "epoch :  5 loss :  tf.Tensor(0.9590258, shape=(), dtype=float32)\n",
      "epoch :  6 loss :  tf.Tensor(0.958715, shape=(), dtype=float32)\n",
      "epoch :  7 loss :  tf.Tensor(0.95849544, shape=(), dtype=float32)\n",
      "epoch :  8 loss :  tf.Tensor(0.9583497, shape=(), dtype=float32)\n",
      "epoch :  9 loss :  tf.Tensor(0.9581662, shape=(), dtype=float32)\n",
      "epoch :  10 loss :  tf.Tensor(0.9579298, shape=(), dtype=float32)\n",
      "epoch :  11 loss :  tf.Tensor(0.9575913, shape=(), dtype=float32)\n",
      "epoch :  12 loss :  tf.Tensor(0.9562997, shape=(), dtype=float32)\n",
      "epoch :  13 loss :  tf.Tensor(0.9561615, shape=(), dtype=float32)\n",
      "epoch :  14 loss :  tf.Tensor(0.95067257, shape=(), dtype=float32)\n",
      "epoch :  15 loss :  tf.Tensor(0.94925624, shape=(), dtype=float32)\n",
      "epoch :  16 loss :  tf.Tensor(0.93836427, shape=(), dtype=float32)\n",
      "epoch :  17 loss :  tf.Tensor(0.92499894, shape=(), dtype=float32)\n",
      "epoch :  18 loss :  tf.Tensor(0.9119012, shape=(), dtype=float32)\n",
      "epoch :  19 loss :  tf.Tensor(0.90046126, shape=(), dtype=float32)\n",
      "epoch :  20 loss :  tf.Tensor(0.87628186, shape=(), dtype=float32)\n",
      "epoch :  21 loss :  tf.Tensor(0.8931502, shape=(), dtype=float32)\n",
      "epoch :  22 loss :  tf.Tensor(0.8204973, shape=(), dtype=float32)\n",
      "epoch :  23 loss :  tf.Tensor(0.7640909, shape=(), dtype=float32)\n",
      "epoch :  24 loss :  tf.Tensor(0.7282278, shape=(), dtype=float32)\n",
      "epoch :  25 loss :  tf.Tensor(0.6695069, shape=(), dtype=float32)\n",
      "epoch :  26 loss :  tf.Tensor(0.6001117, shape=(), dtype=float32)\n",
      "epoch :  27 loss :  tf.Tensor(0.5614017, shape=(), dtype=float32)\n",
      "epoch :  28 loss :  tf.Tensor(0.5174798, shape=(), dtype=float32)\n",
      "epoch :  29 loss :  tf.Tensor(0.42788664, shape=(), dtype=float32)\n"
     ]
    }
   ],
   "source": [
    "epochs = 30\n",
    "losses2 = train(emb_data_x,emb_data_y,dataset_y,model_2)"
   ]
  },
  {
   "cell_type": "code",
   "execution_count": 154,
   "metadata": {},
   "outputs": [
    {
     "name": "stdout",
     "output_type": "stream",
     "text": [
      "epoch :  0 loss :  tf.Tensor(0.014327642, shape=(), dtype=float32)\n",
      "epoch :  1 loss :  tf.Tensor(0.014056466, shape=(), dtype=float32)\n",
      "epoch :  2 loss :  tf.Tensor(0.013563593, shape=(), dtype=float32)\n",
      "epoch :  3 loss :  tf.Tensor(0.012444224, shape=(), dtype=float32)\n",
      "epoch :  4 loss :  tf.Tensor(0.011801146, shape=(), dtype=float32)\n",
      "epoch :  5 loss :  tf.Tensor(0.014128749, shape=(), dtype=float32)\n",
      "epoch :  6 loss :  tf.Tensor(0.011509024, shape=(), dtype=float32)\n",
      "epoch :  7 loss :  tf.Tensor(0.010960865, shape=(), dtype=float32)\n",
      "epoch :  8 loss :  tf.Tensor(0.010655553, shape=(), dtype=float32)\n",
      "epoch :  9 loss :  tf.Tensor(0.010965284, shape=(), dtype=float32)\n",
      "epoch :  10 loss :  tf.Tensor(0.009713366, shape=(), dtype=float32)\n",
      "epoch :  11 loss :  tf.Tensor(0.009241699, shape=(), dtype=float32)\n",
      "epoch :  12 loss :  tf.Tensor(0.0094693275, shape=(), dtype=float32)\n",
      "epoch :  13 loss :  tf.Tensor(0.20855786, shape=(), dtype=float32)\n",
      "epoch :  14 loss :  tf.Tensor(0.035025083, shape=(), dtype=float32)\n"
     ]
    }
   ],
   "source": [
    "epochs = 15\n",
    "losses2 = train(emb_data_x,emb_data_y,dataset_y,model_2)"
   ]
  },
  {
   "cell_type": "code",
   "execution_count": 47,
   "metadata": {},
   "outputs": [
    {
     "data": {
      "text/plain": [
       "(40000, 12, 13)"
      ]
     },
     "execution_count": 47,
     "metadata": {},
     "output_type": "execute_result"
    }
   ],
   "source": []
  },
  {
   "cell_type": "code",
   "execution_count": null,
   "metadata": {},
   "outputs": [],
   "source": []
  },
  {
   "cell_type": "code",
   "execution_count": null,
   "metadata": {},
   "outputs": [],
   "source": []
  },
  {
   "cell_type": "code",
   "execution_count": null,
   "metadata": {
    "id": "PtJ4v8O-rwJG"
   },
   "outputs": [],
   "source": [
    "#########   TRANFORMER   ####################"
   ]
  },
  {
   "cell_type": "code",
   "execution_count": 7,
   "metadata": {},
   "outputs": [],
   "source": [
    "def positional_encoding(length = 2048, depth = 512):\n",
    "    depth = depth/2\n",
    "\n",
    "    positions = np.arange(length)[:, np.newaxis]     # (seq, 1)\n",
    "    depths = np.arange(depth)[np.newaxis, :]/depth   # (1, depth)\n",
    "\n",
    "    angle_rates = 1 / (10000**depths)         # (1, depth)\n",
    "    angle_rads = positions * angle_rates      # (pos, depth)\n",
    "\n",
    "    pos_encoding = np.concatenate([np.sin(angle_rads), np.cos(angle_rads)],axis=-1) \n",
    "\n",
    "    return tf.cast(pos_encoding, dtype=tf.float32)\n",
    "\n",
    "class PositionalEmbedding(tf.keras.layers.Layer):\n",
    "    def __init__(self, vocab_size, d_model):\n",
    "        super().__init__()\n",
    "        self.d_model = d_model\n",
    "        self.embedding = tf.keras.layers.Embedding(vocab_size, d_model, mask_zero=True) \n",
    "        self.pos_encoding = positional_encoding(length=2048, depth=d_model)\n",
    "\n",
    "    def compute_mask(self, *args, **kwargs):\n",
    "        return self.embedding.compute_mask(*args, **kwargs)\n",
    "\n",
    "    def call(self, x):\n",
    "        length = tf.shape(x)[1]\n",
    "        x = self.embedding(x)\n",
    "    # This factor sets the relative scale of the embedding and positonal_encoding.\n",
    "        x *= tf.math.sqrt(tf.cast(self.d_model, tf.float32))\n",
    "        x = x + self.pos_encoding[tf.newaxis, :length, :]\n",
    "        return x\n",
    "    \n",
    "    "
   ]
  },
  {
   "cell_type": "code",
   "execution_count": 8,
   "metadata": {},
   "outputs": [],
   "source": [
    "tokens_x = []\n",
    "tokens_y = []\n",
    "readable_sens = []\n",
    "for i,x in enumerate(dates):\n",
    "    xx = x.split(',')\n",
    "    sen = []\n",
    "    sen.append(sym_dt['*'])\n",
    "    \n",
    "    readable_sens.append(xx[0][1:-1] +\" : \"+ xx[1][2:-2])\n",
    "    for c in xx[0][1:-1]:\n",
    "        sen.append(sym_dt[c])\n",
    "        \n",
    "    sen.append(sym_dt['!'])\n",
    "    padding = [sym_dt[\"pad\"]]*(max_pad-len(sen))\n",
    "    sen = sen+padding\n",
    "\n",
    "    tokens_x.append(sen)\n",
    "\n",
    "    date = []\n",
    "    \n",
    "    date.append(sym_dt['*'])\n",
    "    for c in xx[1][2:-2]:\n",
    "        date.append(sym_dt[c])\n",
    "        \n",
    "    date.append(sym_dt['!'])\n",
    "\n",
    "    tokens_y.append(date)\n",
    "\n",
    "tokens_x = np.array(tokens_x)\n",
    "tokens_y = np.array(tokens_y)\n"
   ]
  },
  {
   "cell_type": "code",
   "execution_count": 10,
   "metadata": {},
   "outputs": [
    {
     "name": "stdout",
     "output_type": "stream",
     "text": [
      "(40000, 30) (40000, 12)\n"
     ]
    }
   ],
   "source": [
    "print(tokens_x.shape,tokens_y.shape)"
   ]
  },
  {
   "cell_type": "code",
   "execution_count": 52,
   "metadata": {},
   "outputs": [
    {
     "name": "stdout",
     "output_type": "stream",
     "text": [
      "(40000, 30, 128) (40000, 12, 128)\n"
     ]
    }
   ],
   "source": [
    "emb_dimension = 128\n",
    "pos = PositionalEmbedding(len(sym_dt),emb_dimension)\n",
    "\n",
    "#caching the positional embeddings \n",
    "\n",
    "posenc_x = pos(tokens_x)\n",
    "posenc_y = pos(tokens_y)\n",
    "print(posenc_x.shape,posenc_y.shape)\n",
    "\n",
    "posenc_x2 = posenc_x.numpy()\n",
    "posenc_y2 = posenc_y.numpy()"
   ]
  },
  {
   "cell_type": "code",
   "execution_count": 56,
   "metadata": {},
   "outputs": [],
   "source": [
    "class create_encoder_block(keras.Model):\n",
    "    def __init__(self,dns,activ,**kwargs):\n",
    "        super(create_encoder_block,self).__init__(**kwargs)\n",
    "        self.attention_self = keras.layers.MultiHeadAttention(1,dns)\n",
    "        self.norm1 = keras.layers.LayerNormalization()\n",
    "        self.add = keras.layers.Add()\n",
    "        self.dense = keras.layers.Dense(dns,activation = activ)\n",
    "        self.norm2 = keras.layers.LayerNormalization()\n",
    "        self.dropout = keras.layers.Dropout(0.3)\n",
    "        \n",
    "    def call(self,inp):\n",
    "        \n",
    "        self_att_vecs,self_att_scores = self.attention_self(inp,inp,return_attention_scores = True)\n",
    "        \n",
    "        residual_vals1 = self.add([inp,self_att_vecs])\n",
    "        \n",
    "        normalized_resids1 = self.norm1(residual_vals1)\n",
    "        \n",
    "        resids_drop = self.dropout(normalized_resids1)\n",
    "        \n",
    "        dense_outs = self.dense(resids_drop)\n",
    "        \n",
    "        residual_vals2 = self.add([dense_outs,normalized_resids1])\n",
    "        \n",
    "        normalized_resids2 = self.norm2(residual_vals2)\n",
    "        \n",
    "        return normalized_resids2\n",
    "    \n",
    "class create_decoder_block(keras.Model):\n",
    "    def __init__(self,dns,activ,**kwargs):\n",
    "        super(create_decoder_block,self).__init__(**kwargs)\n",
    "        self.attention_self = keras.layers.MultiHeadAttention(1,dns)\n",
    "        self.attention_cross = keras.layers.MultiHeadAttention(1,dns)\n",
    "        self.add = keras.layers.Add()\n",
    "        self.dense = keras.layers.Dense(dns,activation = activ)\n",
    "        self.dropout = keras.layers.Dropout(0.3)\n",
    "        self.norm1 = keras.layers.LayerNormalization()\n",
    "        self.norm2 = keras.layers.LayerNormalization()\n",
    "        self.norm3 = keras.layers.LayerNormalization()\n",
    "        \n",
    "    def call(self,dec_inp,enc_out):\n",
    "        \n",
    "        self_att_vecs,self_att_scores = self.attention_self(dec_inp,dec_inp,use_causal_mask = True,return_attention_scores = True)\n",
    "        \n",
    "        resids_self = self.add([self_att_vecs,dec_inp])\n",
    "        \n",
    "        normalized_self = self.norm1(resids_self)\n",
    "        \n",
    "        cross_att_vecs,cross_att_scores = self.attention_cross(normalized_self,enc_out,return_attention_scores = True)\n",
    "        \n",
    "        self.visualization = cross_att_scores[-1]\n",
    "        \n",
    "        resids_cross = self.add([cross_att_vecs,normalized_self])\n",
    "        \n",
    "        normalized_cross = self.norm2(resids_cross)\n",
    "        \n",
    "        normalized_cross_drop = self.dropout(normalized_cross)\n",
    "        \n",
    "        feed_forward = self.dense(normalized_cross_drop)\n",
    "        \n",
    "        resids_3 = self.add([normalized_cross,feed_forward])\n",
    "        \n",
    "        normalized_3 = self.norm3(resids_3)\n",
    "        \n",
    "        \n",
    "        return normalized_3\n",
    "    \n",
    "    "
   ]
  },
  {
   "cell_type": "code",
   "execution_count": 11,
   "metadata": {},
   "outputs": [
    {
     "data": {
      "text/plain": [
       "(1, 30, 64)"
      ]
     },
     "execution_count": 11,
     "metadata": {},
     "output_type": "execute_result"
    }
   ],
   "source": [
    "posenc_x2[:1].shape"
   ]
  },
  {
   "cell_type": "code",
   "execution_count": 12,
   "metadata": {},
   "outputs": [],
   "source": [
    "class create_encoder_stack(keras.Model):\n",
    "    def __init__(self,dns,activ,enc_stk_len,**kwargs):\n",
    "        super(create_encoder_stack,self).__init__()\n",
    "        self.enc_stk = []\n",
    "        for i in range(enc_stk_len):\n",
    "            self.enc_stk.append(create_encoder_block(dns,activ))\n",
    "            \n",
    "    def call(self,inp):\n",
    "        x = inp\n",
    "        for enc_block in self.enc_stk:\n",
    "            x = enc_block(x)\n",
    "            \n",
    "        return x\n",
    "            \n",
    "class create_decoder_stack(keras.Model):\n",
    "    def __init__(self,dns,activ,enc_stk_len,**kwargs):\n",
    "        super(create_decoder_stack,self).__init__()\n",
    "        self.dec_stk = []\n",
    "        for i in range(enc_stk_len):\n",
    "            self.dec_stk.append(create_decoder_block(dns,activ))\n",
    "            \n",
    "    def call(self,dec_inp,enc_out):\n",
    "        x = dec_inp\n",
    "        for dec_block in self.dec_stk:\n",
    "            x = dec_block(x,enc_out)\n",
    "            \n",
    "        self.att_scores =  self.dec_stk[0].visualization\n",
    "            \n",
    "        return x\n",
    "            "
   ]
  },
  {
   "cell_type": "code",
   "execution_count": 57,
   "metadata": {},
   "outputs": [],
   "source": [
    "class transformer(keras.Model):\n",
    "    def __init__(self,dns,activ,enc_stk_len,dec_stk_len,**kwargs):\n",
    "        super(transformer,self).__init__(**kwargs)\n",
    "        \n",
    "        \n",
    "        self.enc_stk = create_encoder_stack(dns,activ,enc_stk_len)\n",
    "        self.dec_stk = create_decoder_stack(dns,activ,dec_stk_len)\n",
    "        \n",
    "            \n",
    "        self.softmax = keras.layers.Dense(len(sym_dt),activation = \"softmax\")\n",
    "  \n",
    "    def call(self,inp,out):\n",
    "\n",
    "        enc_out = self.enc_stk(inp)\n",
    "\n",
    "        dec_out = self.dec_stk(out,enc_out)\n",
    "        \n",
    "        out = self.softmax(dec_out)\n",
    "        \n",
    "\n",
    "        return out\n",
    "        \n",
    "        \n",
    "        \n",
    "        \n",
    "        \n",
    "        "
   ]
  },
  {
   "cell_type": "code",
   "execution_count": 58,
   "metadata": {},
   "outputs": [],
   "source": [
    "\n",
    "\n",
    "def train_transformer(pos_xx,pos_yy,yy,model):\n",
    "    emb_x = copy.deepcopy(pos_xx)        #position enocded vectors of input dates\n",
    "    emb_y = copy.deepcopy(pos_yy)        #position encoded vectors of target dates\n",
    "    ohv_y = copy.deepcopy(yy)            #onehot vectors for target dates\n",
    "    tot_losses = []\n",
    "    for x in range(epochs):\n",
    "        ep_loss = 0\n",
    "        index = 0\n",
    "        while(index<40000):\n",
    "            d = emb_x[index:index+batch_size]\n",
    "            y = emb_y[index:index+batch_size]\n",
    "            loss_y = ohv_y[index:index+batch_size]\n",
    "            inds = np.arange(0,min(batch_size,len(d)))\n",
    "            np.random.shuffle(inds)\n",
    "            d = d[inds]\n",
    "            y = y[inds]\n",
    "            loss_y = loss_y[inds]\n",
    "            index += batch_size\n",
    "            with tf.GradientTape() as tp:\n",
    "                pred = model(d,y[:,:-1,:])\n",
    "                ls = loss(loss_y[:,1:,:],pred)\n",
    "            grads = tp.gradient(ls,model.trainable_weights) \n",
    "            optim.apply_gradients(zip(grads,model.trainable_weights))\n",
    "            ep_loss += ls\n",
    "        print(\"epoch : \", x, \"loss : \", ep_loss/(len(emb_x)/batch_size))\n",
    "        tot_losses.append(ep_loss/(len(emb_x)/batch_size))\n",
    "    return tot_losses"
   ]
  },
  {
   "cell_type": "code",
   "execution_count": 61,
   "metadata": {},
   "outputs": [
    {
     "name": "stdout",
     "output_type": "stream",
     "text": [
      "epoch :  0 loss :  tf.Tensor(1.1001443, shape=(), dtype=float32)\n",
      "epoch :  1 loss :  tf.Tensor(0.08606955, shape=(), dtype=float32)\n",
      "epoch :  2 loss :  tf.Tensor(0.08440404, shape=(), dtype=float32)\n",
      "epoch :  3 loss :  tf.Tensor(0.013440118, shape=(), dtype=float32)\n",
      "epoch :  4 loss :  tf.Tensor(0.011827845, shape=(), dtype=float32)\n",
      "epoch :  5 loss :  tf.Tensor(0.010109114, shape=(), dtype=float32)\n"
     ]
    }
   ],
   "source": [
    "epochs = 6\n",
    "batch_size = 256\n",
    "\n",
    "optim = keras.optimizers.Adam()\n",
    "loss = keras.losses.CategoricalCrossentropy()\n",
    "\n",
    "trans_model = transformer(emb_dimension,\"tanh\",6,6)\n",
    "\n",
    "losses = train_transformer(posenc_x2,posenc_y2,dataset_y,trans_model)\n"
   ]
  },
  {
   "cell_type": "code",
   "execution_count": 70,
   "metadata": {},
   "outputs": [
    {
     "name": "stdout",
     "output_type": "stream",
     "text": [
      "'saturday october 30 1813', '1813-10-30'\n",
      "\n",
      "1813-10-30!\n"
     ]
    }
   ],
   "source": [
    "def get_date_trans(inp,model):\n",
    "            \n",
    "        \n",
    "        tokens = [sym_dt[\"*\"]]\n",
    "\n",
    "        nex_pos_enc = pos(np.expand_dims(np.array(tokens),axis = 0))\n",
    "        \n",
    "        enc_out = model.enc_stk(inp,training = False)\n",
    "        \n",
    "        ch = '*'\n",
    "        cnt = 0\n",
    "        t_att_scores11 = []\n",
    "        t_att_scores21 = []\n",
    "        t_att_scores31 = []\n",
    "        \n",
    "        t_att_scores12,t_att_scores22,t_att_scores32 = [],[],[]\n",
    "        \n",
    "        ans = [ch]\n",
    "        \n",
    "        result_scores = []\n",
    "        while(ch != \"!\"):\n",
    "            \n",
    "            if(cnt == 15):\n",
    "                break\n",
    "            cnt += 1\n",
    "            \n",
    "            dec_out = model.dec_stk(nex_pos_enc,enc_out,training = False)\n",
    "            \n",
    "            result_scores.append(model.dec_stk.dec_stk[1].visualization[0][-1])\n",
    "#             print(model.dec_stk.dec_stk[1].visualization[0][-1].shape)\n",
    "\n",
    "            out = model.softmax(dec_out) \n",
    "            \n",
    "            ind = tf.argmax(out[:,-1:,:],axis = 2)\n",
    "            ch = reverse_syms_dt[int(ind)]\n",
    "            ans.append(ch)\n",
    "            tokens.append(ind[0][0])\n",
    "            \n",
    "            \n",
    "            nex_pos_enc = pos(np.expand_dims(np.array(tokens),axis = 0))\n",
    "   \n",
    "        \n",
    "        return \"\".join(ans[1:]),result_scores,[t_att_scores11,t_att_scores21,t_att_scores31], [t_att_scores12,t_att_scores22,t_att_scores32]\n",
    "        \n",
    "x = 19099\n",
    "\n",
    "print(dates[x])\n",
    "output_date,cross_scores,result_scores,self_scores = get_date_trans(posenc_x[x:x+1],trans_model)  \n",
    "print(output_date)"
   ]
  },
  {
   "cell_type": "code",
   "execution_count": 93,
   "metadata": {},
   "outputs": [
    {
     "name": "stdout",
     "output_type": "stream",
     "text": [
      "1931-12-22!\n"
     ]
    },
    {
     "data": {
      "image/png": "[encoded data removed]",
      "text/plain": [
       "<Figure size 640x480 with 1 Axes>"
      ]
     },
     "metadata": {},
     "output_type": "display_data"
    }
   ],
   "source": [
    "\n",
    "def tokenize(sent):\n",
    "    \n",
    "    out = []\n",
    "    for i in sent:\n",
    "        out.append(sym_dt[i])\n",
    "    return np.array(out)\n",
    "\n",
    "example = '22nd december 1931'\n",
    "tokenized = tokenize(example)\n",
    "pos_encoded = pos(np.expand_dims(tokenized,axis =0))\n",
    "\n",
    "output_date,att_scores,cross_att_scores,self_att_scores = get_date_trans(pos_encoded,trans_model)\n",
    "\n",
    "    \n",
    "print(output_date)\n",
    "# print(np.array(scores).shape)\n",
    "plot_attention(att_scores,example,output_date)\n",
    "\n",
    "\n",
    "\n",
    "\n",
    "#plot is attention scores of 1st decoder layer on encoder sequence"
   ]
  },
  {
   "cell_type": "code",
   "execution_count": null,
   "metadata": {},
   "outputs": [],
   "source": []
  }
 ],
 "metadata": {
  "colab": {
   "provenance": []
  },
  "kernelspec": {
   "display_name": "Python 3 (ipykernel)",
   "language": "python",
   "name": "python3"
  },
  "language_info": {
   "codemirror_mode": {
    "name": "ipython",
    "version": 3
   },
   "file_extension": ".py",
   "mimetype": "text/x-python",
   "name": "python",
   "nbconvert_exporter": "python",
   "pygments_lexer": "ipython3",
   "version": "3.8.10"
  }
 },
 "nbformat": 4,
 "nbformat_minor": 1
}
